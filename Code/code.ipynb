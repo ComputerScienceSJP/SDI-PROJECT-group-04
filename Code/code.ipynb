{
 "cells": [
  {
   "cell_type": "markdown",
   "id": "20350151",
   "metadata": {},
   "source": [
    "# Sri Lankan University Student Monthly Expenses Survey – Data Analysis\n",
    "\n",
    "This notebook analyzes survey data collected from Sri Lankan university students regarding their monthly expenses.  \n",
    "The aim is to identify **spending patterns**, **major expense categories**, and **factors influencing expenditure**.\n"
   ]
  },
  {
   "cell_type": "code",
   "execution_count": null,
   "id": "c0b63d7d",
   "metadata": {
    "vscode": {
     "languageId": "plaintext"
    }
   },
   "outputs": [],
   "source": [
    "import pandas as pd\n",
    "import numpy as np\n",
    "import matplotlib.pyplot as plt\n",
    "from pathlib import Path\n",
    "\n",
    "# Try common repo-relative paths\n",
    "paths = [Path('../Data/test.csv'), Path('Data/test.csv'), Path('test.csv')]\n",
    "csv_path = None\n",
    "for p in paths:\n",
    "    if p.exists():\n",
    "        csv_path = p\n",
    "        break\n",
    "df = pd.read_csv(csv_path)\n",
    "display(df.head())\n"
   ]
  }
 ],
 "metadata": {
  "language_info": {
   "name": "python"
  }
 },
 "nbformat": 4,
 "nbformat_minor": 5
}
