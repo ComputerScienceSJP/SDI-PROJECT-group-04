{
 "cells": [
  {
   "cell_type": "markdown",
   "id": "b9586a51",
   "metadata": {},
   "source": []
  },
  {
   "cell_type": "markdown",
   "id": "20350151",
   "metadata": {},
   "source": [
    "# Sri Lankan University Student Monthly Expenses Survey – Data Analysis\n",
    "\n",
    "This notebook analyzes survey data collected from Sri Lankan university students regarding their monthly expenses.  \n",
    "The aim is to identify **spending patterns**, **major expense categories**, and **factors influencing expenditure**.\n"
   ]
  }
 ],
 "metadata": {
  "language_info": {
   "name": "python"
  }
 },
 "nbformat": 4,
 "nbformat_minor": 5
}
