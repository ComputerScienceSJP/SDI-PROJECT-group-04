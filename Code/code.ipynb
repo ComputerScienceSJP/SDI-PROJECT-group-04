{
 "cells": [
  {
   "cell_type": "markdown",
   "id": "b9586a51",
   "metadata": {},
   "source": []
  },
  {
   "cell_type": "markdown",
   "id": "20350151",
   "metadata": {},
   "source": [
    "# Sri Lankan University Student Monthly Expenses Survey – Data Analysis\n",
    "\n",
    "This notebook analyzes survey data collected from Sri Lankan university students regarding their monthly expenses.  \n",
    "The aim is to identify **spending patterns**, **major expense categories**, and **factors influencing expenditure**.\n"
   ]
  }
 ],
 "metadata": {
  "language_info": {
   "name": "python"
  }
 },
 "nbformat": 4,
 "nbformat_minor": 5
}
import pandas as pd
import numpy as np
import matplotlib.pyplot as plt
from pathlib import Path

# Try common repo-relative paths
paths = [Path('test.csv')]
csv_path = None
for p in paths:
    if p.exists():
        csv_path = p
        break
df = pd.read_csv(csv_path)
display(df.head())
